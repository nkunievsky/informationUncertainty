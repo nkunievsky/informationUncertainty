{
 "cells": [
  {
   "cell_type": "code",
   "execution_count": 2,
   "id": "6258c3e5",
   "metadata": {},
   "outputs": [],
   "source": [
    "import sys\n",
    "import os\n",
    "import math\n",
    "import random\n",
    "import array\n",
    "from datetime import datetime\n",
    "\n",
    "import numpy as np\n",
    "import pandas as pd \n",
    "\n",
    "from scipy.stats import lognorm\n",
    "from scipy.stats import beta\n",
    "from scipy.stats import binom\n",
    "from scipy.stats import norm\n",
    "from scipy.stats import multivariate_normal\n",
    "from scipy.stats import expon\n",
    "from scipy.stats import pareto\n",
    "import scipy.sparse as sp\n",
    "import scipy.linalg as la\n",
    "from scipy.stats import dirichlet\n",
    " \n",
    "\n",
    "import matplotlib.pyplot as plt \n",
    "from mpl_toolkits.mplot3d import Axes3D\n",
    "import seaborn as sns\n",
    "\n",
    "from itertools import combinations\n",
    "from itertools import combinations_with_replacement\n",
    "from itertools import permutations\n",
    "from itertools import product\n",
    "\n",
    "\n",
    "from tqdm import trange, notebook\n",
    "\n",
    "pd.set_option('display.max_columns', None)\n"
   ]
  },
  {
   "cell_type": "code",
   "execution_count": 3,
   "id": "45ec42f2",
   "metadata": {},
   "outputs": [
    {
     "data": {
      "text/plain": [
       "'D:\\\\Dropbox\\\\Dropbox\\\\uchicago_fourth\\\\uncertaintyInequality'"
      ]
     },
     "execution_count": 3,
     "metadata": {},
     "output_type": "execute_result"
    }
   ],
   "source": [
    "current_directory = os.getcwd()\n",
    "parent_directory = os.path.dirname(current_directory)\n",
    "sys.path.append(parent_directory)\n",
    "from config import directory_path\n",
    "os.chdir(directory_path)\n",
    "os.getcwd()\n",
    "\n"
   ]
  },
  {
   "cell_type": "markdown",
   "id": "b78beedf",
   "metadata": {},
   "source": [
    "# Creating Wide Panel"
   ]
  },
  {
   "cell_type": "code",
   "execution_count": 3,
   "id": "111afa9e",
   "metadata": {
    "scrolled": true
   },
   "outputs": [
    {
     "data": {
      "text/plain": [
       "['consumption_pyramids_20140131_MS_rev_csv.zip',\n",
       " 'consumption_pyramids_20140228_MS_rev_csv.zip',\n",
       " 'consumption_pyramids_20140331_MS_rev_csv.zip',\n",
       " 'consumption_pyramids_20140430_MS_rev_csv.zip',\n",
       " 'consumption_pyramids_20140531_MS_rev_csv.zip',\n",
       " 'consumption_pyramids_20140630_MS_rev_csv.zip',\n",
       " 'consumption_pyramids_20140731_MS_rev_csv.zip',\n",
       " 'consumption_pyramids_20140831_MS_rev_csv.zip',\n",
       " 'consumption_pyramids_20140930_MS_rev_csv.zip',\n",
       " 'consumption_pyramids_20141031_MS_rev_csv.zip',\n",
       " 'consumption_pyramids_20141130_MS_rev_csv.zip',\n",
       " 'consumption_pyramids_20141231_MS_rev_csv.zip',\n",
       " 'consumption_pyramids_20150131_MS_rev_csv.zip',\n",
       " 'consumption_pyramids_20150228_MS_rev_csv.zip',\n",
       " 'consumption_pyramids_20150331_MS_rev_csv.zip',\n",
       " 'consumption_pyramids_20150430_MS_rev_csv.zip',\n",
       " 'consumption_pyramids_20150531_MS_rev_csv.zip',\n",
       " 'consumption_pyramids_20150630_MS_rev_csv.zip',\n",
       " 'consumption_pyramids_20150731_MS_rev_csv.zip',\n",
       " 'consumption_pyramids_20150831_MS_rev_csv.zip',\n",
       " 'consumption_pyramids_20150930_MS_rev_csv.zip',\n",
       " 'consumption_pyramids_20151031_MS_rev_csv.zip',\n",
       " 'consumption_pyramids_20151130_MS_rev_csv.zip',\n",
       " 'consumption_pyramids_20151231_MS_rev_csv.zip',\n",
       " 'consumption_pyramids_20160131_MS_rev_csv.zip',\n",
       " 'consumption_pyramids_20160229_MS_rev_csv.zip',\n",
       " 'consumption_pyramids_20160331_MS_rev_csv.zip',\n",
       " 'consumption_pyramids_20160430_MS_rev_csv.zip',\n",
       " 'consumption_pyramids_20160531_MS_rev_csv.zip',\n",
       " 'consumption_pyramids_20160630_MS_rev_csv.zip',\n",
       " 'consumption_pyramids_20160731_MS_rev_csv.zip',\n",
       " 'consumption_pyramids_20160831_MS_rev_csv.zip',\n",
       " 'consumption_pyramids_20160930_MS_rev_csv.zip',\n",
       " 'consumption_pyramids_20161031_MS_rev_csv.zip',\n",
       " 'consumption_pyramids_20161130_MS_rev_csv.zip',\n",
       " 'consumption_pyramids_20161231_MS_rev_csv.zip',\n",
       " 'consumption_pyramids_20170131_MS_rev_csv.zip',\n",
       " 'consumption_pyramids_20170228_MS_rev_csv.zip',\n",
       " 'consumption_pyramids_20170331_MS_rev_csv.zip',\n",
       " 'consumption_pyramids_20170430_MS_rev_csv.zip',\n",
       " 'consumption_pyramids_20170531_MS_rev_csv.zip',\n",
       " 'consumption_pyramids_20170630_MS_rev_csv.zip',\n",
       " 'consumption_pyramids_20170731_MS_rev_csv.zip',\n",
       " 'consumption_pyramids_20170831_MS_rev_csv.zip',\n",
       " 'consumption_pyramids_20170930_MS_rev_csv.zip',\n",
       " 'consumption_pyramids_20171031_MS_rev_csv.zip',\n",
       " 'consumption_pyramids_20171130_MS_rev_csv.zip',\n",
       " 'consumption_pyramids_20171231_MS_rev_csv.zip',\n",
       " 'consumption_pyramids_20180131_MS_rev_csv.zip',\n",
       " 'consumption_pyramids_20180228_MS_rev_csv.zip',\n",
       " 'consumption_pyramids_20180331_MS_rev_csv.zip',\n",
       " 'consumption_pyramids_20180430_MS_rev_csv.zip',\n",
       " 'consumption_pyramids_20180531_MS_rev_csv.zip',\n",
       " 'consumption_pyramids_20180630_MS_rev_csv.zip',\n",
       " 'consumption_pyramids_20180731_MS_rev_csv.zip',\n",
       " 'consumption_pyramids_20180831_MS_rev_csv.zip',\n",
       " 'consumption_pyramids_20180930_MS_rev_csv.zip',\n",
       " 'consumption_pyramids_20181031_MS_rev_csv.zip',\n",
       " 'consumption_pyramids_20181130_MS_rev_csv.zip',\n",
       " 'consumption_pyramids_20181231_MS_rev_csv.zip',\n",
       " 'consumption_pyramids_20190131_MS_rev_csv.zip',\n",
       " 'consumption_pyramids_20190228_MS_rev_csv.zip',\n",
       " 'consumption_pyramids_20190331_MS_rev_csv.zip',\n",
       " 'consumption_pyramids_20190430_MS_rev_csv.zip',\n",
       " 'consumption_pyramids_20190531_MS_rev_csv.zip',\n",
       " 'consumption_pyramids_20190630_MS_rev_csv.zip',\n",
       " 'consumption_pyramids_20190731_MS_rev_csv.zip',\n",
       " 'consumption_pyramids_20190831_MS_rev_csv.zip',\n",
       " 'consumption_pyramids_20190930_MS_rev_csv.zip',\n",
       " 'consumption_pyramids_20191031_MS_rev_csv.zip',\n",
       " 'consumption_pyramids_20191130_MS_rev_csv.zip',\n",
       " 'consumption_pyramids_20191231_MS_rev_csv.zip',\n",
       " 'consumption_pyramids_20200131_MS_rev_csv.zip',\n",
       " 'consumption_pyramids_20200229_MS_rev_csv.zip',\n",
       " 'consumption_pyramids_20200331_MS_rev_csv.zip',\n",
       " 'consumption_pyramids_20200430_MS_rev_csv.zip',\n",
       " 'consumption_pyramids_20200531_MS_rev_csv.zip',\n",
       " 'consumption_pyramids_20200630_MS_rev_csv.zip',\n",
       " 'consumption_pyramids_20200731_MS_rev_csv.zip',\n",
       " 'consumption_pyramids_20200831_MS_rev_csv.zip',\n",
       " 'consumption_pyramids_20200930_MS_rev_csv.zip',\n",
       " 'consumption_pyramids_20201031_MS_rev_csv.zip',\n",
       " 'consumption_pyramids_20201130_MS_rev_csv.zip',\n",
       " 'consumption_pyramids_20201231_MS_rev_csv.zip',\n",
       " 'consumption_pyramids_20210131_MS_rev_csv.zip',\n",
       " 'consumption_pyramids_20210228_MS_rev_csv.zip',\n",
       " 'consumption_pyramids_20210331_MS_rev_csv.zip',\n",
       " 'consumption_pyramids_20210430_MS_rev_csv.zip',\n",
       " 'consumption_pyramids_20210531_MS_rev_csv.zip',\n",
       " 'consumption_pyramids_20210630_MS_rev_csv.zip',\n",
       " 'consumption_pyramids_20210731_MS_rev_csv.zip',\n",
       " 'consumption_pyramids_20210831_MS_rev_csv.zip',\n",
       " 'consumption_pyramids_20210930_MS_rev_csv.zip',\n",
       " 'consumption_pyramids_20211031_MS_rev_csv.zip',\n",
       " 'consumption_pyramids_20211130_MS_rev_csv.zip',\n",
       " 'consumption_pyramids_20211231_MS_rev_csv.zip',\n",
       " 'consumption_pyramids_20220131_MS_csv.zip']"
      ]
     },
     "execution_count": 3,
     "metadata": {},
     "output_type": "execute_result"
    }
   ],
   "source": [
    "HH_Consumption_dir = 'pyramid/consumption/'\n",
    "zipFiles = os.listdir(HH_Consumption_dir)\n",
    "zipFiles"
   ]
  },
  {
   "cell_type": "code",
   "execution_count": 9,
   "id": "06156b9a",
   "metadata": {},
   "outputs": [
    {
     "data": {
      "application/vnd.jupyter.widget-view+json": {
       "model_id": "9d5df52cafbc4733b52eaad3b238e0a7",
       "version_major": 2,
       "version_minor": 0
      },
      "text/plain": [
       "File:   0%|          | 0/58 [00:00<?, ?it/s]"
      ]
     },
     "metadata": {},
     "output_type": "display_data"
    }
   ],
   "source": [
    "initalFile = 12 #Start at 2015\n",
    "fileName = HH_Consumption_dir+ zipFiles[initalFile]\n",
    "\n",
    "consumptionCols = ['TOTAL_EXPENDITURE',\n",
    "'MONTHLY_EXPENSE_ON_FOOD',\n",
    "'MONTHLY_EXPENSE_ON_INTOXICANTS',\n",
    "'MONTHLY_EXPENSE_ON_CLOTHING_AND_FOOTWEAR',\n",
    "'MONTHLY_EXPENSE_ON_COSMETIC_AND_TOILETRIES',\n",
    "'MONTHLY_EXPENSE_ON_APPLIANCES',\n",
    "'MONTHLY_EXPENSE_ON_RESTAURANTS',\n",
    "'MONTHLY_EXPENSE_ON_RECREATION',\n",
    "'MONTHLY_EXPENSE_ON_BILLS_AND_RENT',\n",
    "'MONTHLY_EXPENSE_ON_POWER_AND_FUEL',\n",
    "'MONTHLY_EXPENSE_ON_TRANSPORT',\n",
    "'MONTHLY_EXPENSE_ON_COMMUNICATION_AND_INFO',\n",
    "'MONTHLY_EXPENSE_ON_EDUCATION',\n",
    "'MONTHLY_EXPENSE_ON_HEALTH',\n",
    "'MONTHLY_EXPENSE_ON_ALL_EMIS',\n",
    "'MONTHLY_EXPENSE_ON_MISCELLANEOUS',\n",
    "'REASON_FOR_NON_RESPONSE',\n",
    "'FAMILY_SHIFTED']\n",
    "\n",
    "finalCols = ['HH_ID'] + consumptionCols\n",
    "\n",
    "df = pd.read_csv(fileName, compression='zip')\n",
    "\n",
    "if 'FAMILY_SHIFTED' not in df.columns:\n",
    "        df['FAMILY_SHIFTED'] = 'N'\n",
    "\n",
    "df = df[finalCols]\n",
    "keep_same = df.columns[0]\n",
    "suffix = \"_\"+ fileName[fileName.find('_20')+1:fileName.find('_MS')]\n",
    "df.columns = ['{}{}'.format(c, '' if c in keep_same else suffix) for c in df.columns]\n",
    "\n",
    "for f in notebook.tqdm(zipFiles[initalFile+1:71], desc='File', leave=True):\n",
    "    fileName = HH_Consumption_dir+ f\n",
    "    df_toMerge = pd.read_csv(fileName, compression='zip')\n",
    "    if 'FAMILY_SHIFTED' not in df_toMerge.columns:\n",
    "        df_toMerge['FAMILY_SHIFTED'] = 'N'\n",
    "\n",
    "    df_toMerge = df_toMerge[finalCols]\n",
    "    \n",
    "    keep_same = df_toMerge.columns[0]\n",
    "    suffix = \"_\"+ f[f.find('_20')+1:f.find('_MS')]\n",
    "    df_toMerge.columns = ['{}{}'.format(c, '' if c in keep_same else suffix) for c in df_toMerge.columns]\n",
    "\n",
    "    df = df.merge(df_toMerge,on=['HH_ID'],how='outer',validate=\"1:1\")\n",
    "\n",
    "    "
   ]
  },
  {
   "cell_type": "markdown",
   "id": "2e38de0c",
   "metadata": {},
   "source": [
    "### Finishing up! and savign the HH panel"
   ]
  },
  {
   "cell_type": "code",
   "execution_count": 12,
   "id": "ffbff1e0",
   "metadata": {},
   "outputs": [],
   "source": [
    "df.to_feather('proc_data\\HH_consumption.feather')\n"
   ]
  },
  {
   "cell_type": "markdown",
   "id": "f4fa4302",
   "metadata": {},
   "source": [
    "# Creating a long panel"
   ]
  },
  {
   "cell_type": "code",
   "execution_count": 13,
   "id": "a334f041",
   "metadata": {},
   "outputs": [
    {
     "data": {
      "text/plain": [
       "['consumption_pyramids_20140131_MS_rev_csv.zip',\n",
       " 'consumption_pyramids_20140228_MS_rev_csv.zip',\n",
       " 'consumption_pyramids_20140331_MS_rev_csv.zip',\n",
       " 'consumption_pyramids_20140430_MS_rev_csv.zip',\n",
       " 'consumption_pyramids_20140531_MS_rev_csv.zip',\n",
       " 'consumption_pyramids_20140630_MS_rev_csv.zip',\n",
       " 'consumption_pyramids_20140731_MS_rev_csv.zip',\n",
       " 'consumption_pyramids_20140831_MS_rev_csv.zip',\n",
       " 'consumption_pyramids_20140930_MS_rev_csv.zip',\n",
       " 'consumption_pyramids_20141031_MS_rev_csv.zip',\n",
       " 'consumption_pyramids_20141130_MS_rev_csv.zip',\n",
       " 'consumption_pyramids_20141231_MS_rev_csv.zip',\n",
       " 'consumption_pyramids_20150131_MS_rev_csv.zip',\n",
       " 'consumption_pyramids_20150228_MS_rev_csv.zip',\n",
       " 'consumption_pyramids_20150331_MS_rev_csv.zip',\n",
       " 'consumption_pyramids_20150430_MS_rev_csv.zip',\n",
       " 'consumption_pyramids_20150531_MS_rev_csv.zip',\n",
       " 'consumption_pyramids_20150630_MS_rev_csv.zip',\n",
       " 'consumption_pyramids_20150731_MS_rev_csv.zip',\n",
       " 'consumption_pyramids_20150831_MS_rev_csv.zip',\n",
       " 'consumption_pyramids_20150930_MS_rev_csv.zip',\n",
       " 'consumption_pyramids_20151031_MS_rev_csv.zip',\n",
       " 'consumption_pyramids_20151130_MS_rev_csv.zip',\n",
       " 'consumption_pyramids_20151231_MS_rev_csv.zip',\n",
       " 'consumption_pyramids_20160131_MS_rev_csv.zip',\n",
       " 'consumption_pyramids_20160229_MS_rev_csv.zip',\n",
       " 'consumption_pyramids_20160331_MS_rev_csv.zip',\n",
       " 'consumption_pyramids_20160430_MS_rev_csv.zip',\n",
       " 'consumption_pyramids_20160531_MS_rev_csv.zip',\n",
       " 'consumption_pyramids_20160630_MS_rev_csv.zip',\n",
       " 'consumption_pyramids_20160731_MS_rev_csv.zip',\n",
       " 'consumption_pyramids_20160831_MS_rev_csv.zip',\n",
       " 'consumption_pyramids_20160930_MS_rev_csv.zip',\n",
       " 'consumption_pyramids_20161031_MS_rev_csv.zip',\n",
       " 'consumption_pyramids_20161130_MS_rev_csv.zip',\n",
       " 'consumption_pyramids_20161231_MS_rev_csv.zip',\n",
       " 'consumption_pyramids_20170131_MS_rev_csv.zip',\n",
       " 'consumption_pyramids_20170228_MS_rev_csv.zip',\n",
       " 'consumption_pyramids_20170331_MS_rev_csv.zip',\n",
       " 'consumption_pyramids_20170430_MS_rev_csv.zip',\n",
       " 'consumption_pyramids_20170531_MS_rev_csv.zip',\n",
       " 'consumption_pyramids_20170630_MS_rev_csv.zip',\n",
       " 'consumption_pyramids_20170731_MS_rev_csv.zip',\n",
       " 'consumption_pyramids_20170831_MS_rev_csv.zip',\n",
       " 'consumption_pyramids_20170930_MS_rev_csv.zip',\n",
       " 'consumption_pyramids_20171031_MS_rev_csv.zip',\n",
       " 'consumption_pyramids_20171130_MS_rev_csv.zip',\n",
       " 'consumption_pyramids_20171231_MS_rev_csv.zip',\n",
       " 'consumption_pyramids_20180131_MS_rev_csv.zip',\n",
       " 'consumption_pyramids_20180228_MS_rev_csv.zip',\n",
       " 'consumption_pyramids_20180331_MS_rev_csv.zip',\n",
       " 'consumption_pyramids_20180430_MS_rev_csv.zip',\n",
       " 'consumption_pyramids_20180531_MS_rev_csv.zip',\n",
       " 'consumption_pyramids_20180630_MS_rev_csv.zip',\n",
       " 'consumption_pyramids_20180731_MS_rev_csv.zip',\n",
       " 'consumption_pyramids_20180831_MS_rev_csv.zip',\n",
       " 'consumption_pyramids_20180930_MS_rev_csv.zip',\n",
       " 'consumption_pyramids_20181031_MS_rev_csv.zip',\n",
       " 'consumption_pyramids_20181130_MS_rev_csv.zip',\n",
       " 'consumption_pyramids_20181231_MS_rev_csv.zip',\n",
       " 'consumption_pyramids_20190131_MS_rev_csv.zip',\n",
       " 'consumption_pyramids_20190228_MS_rev_csv.zip',\n",
       " 'consumption_pyramids_20190331_MS_rev_csv.zip',\n",
       " 'consumption_pyramids_20190430_MS_rev_csv.zip',\n",
       " 'consumption_pyramids_20190531_MS_rev_csv.zip',\n",
       " 'consumption_pyramids_20190630_MS_rev_csv.zip',\n",
       " 'consumption_pyramids_20190731_MS_rev_csv.zip',\n",
       " 'consumption_pyramids_20190831_MS_rev_csv.zip',\n",
       " 'consumption_pyramids_20190930_MS_rev_csv.zip',\n",
       " 'consumption_pyramids_20191031_MS_rev_csv.zip',\n",
       " 'consumption_pyramids_20191130_MS_rev_csv.zip',\n",
       " 'consumption_pyramids_20191231_MS_rev_csv.zip',\n",
       " 'consumption_pyramids_20200131_MS_rev_csv.zip',\n",
       " 'consumption_pyramids_20200229_MS_rev_csv.zip',\n",
       " 'consumption_pyramids_20200331_MS_rev_csv.zip',\n",
       " 'consumption_pyramids_20200430_MS_rev_csv.zip',\n",
       " 'consumption_pyramids_20200531_MS_rev_csv.zip',\n",
       " 'consumption_pyramids_20200630_MS_rev_csv.zip',\n",
       " 'consumption_pyramids_20200731_MS_rev_csv.zip',\n",
       " 'consumption_pyramids_20200831_MS_rev_csv.zip',\n",
       " 'consumption_pyramids_20200930_MS_rev_csv.zip',\n",
       " 'consumption_pyramids_20201031_MS_rev_csv.zip',\n",
       " 'consumption_pyramids_20201130_MS_rev_csv.zip',\n",
       " 'consumption_pyramids_20201231_MS_rev_csv.zip',\n",
       " 'consumption_pyramids_20210131_MS_rev_csv.zip',\n",
       " 'consumption_pyramids_20210228_MS_rev_csv.zip',\n",
       " 'consumption_pyramids_20210331_MS_rev_csv.zip',\n",
       " 'consumption_pyramids_20210430_MS_rev_csv.zip',\n",
       " 'consumption_pyramids_20210531_MS_rev_csv.zip',\n",
       " 'consumption_pyramids_20210630_MS_rev_csv.zip',\n",
       " 'consumption_pyramids_20210731_MS_rev_csv.zip',\n",
       " 'consumption_pyramids_20210831_MS_rev_csv.zip',\n",
       " 'consumption_pyramids_20210930_MS_rev_csv.zip',\n",
       " 'consumption_pyramids_20211031_MS_rev_csv.zip',\n",
       " 'consumption_pyramids_20211130_MS_rev_csv.zip',\n",
       " 'consumption_pyramids_20211231_MS_rev_csv.zip',\n",
       " 'consumption_pyramids_20220131_MS_csv.zip']"
      ]
     },
     "execution_count": 13,
     "metadata": {},
     "output_type": "execute_result"
    }
   ],
   "source": [
    "HH_Consumption_dir = 'pyramid/consumption/'\n",
    "zipFiles = os.listdir(HH_Consumption_dir)\n",
    "zipFiles"
   ]
  },
  {
   "cell_type": "code",
   "execution_count": 14,
   "id": "c9a5d951",
   "metadata": {},
   "outputs": [
    {
     "data": {
      "application/json": {
       "ascii": false,
       "bar_format": null,
       "colour": null,
       "elapsed": 0.018944501876831055,
       "initial": 0,
       "n": 0,
       "ncols": null,
       "nrows": 29,
       "postfix": null,
       "prefix": "File",
       "rate": null,
       "total": 58,
       "unit": "it",
       "unit_divisor": 1000,
       "unit_scale": false
      },
      "application/vnd.jupyter.widget-view+json": {
       "model_id": "01693c097b4048278dd4aea3319b808b",
       "version_major": 2,
       "version_minor": 0
      },
      "text/plain": [
       "File:   0%|          | 0/58 [00:00<?, ?it/s]"
      ]
     },
     "metadata": {},
     "output_type": "display_data"
    }
   ],
   "source": [
    "initalFile = 12 #Start at 2015\n",
    "fileName = HH_Consumption_dir+ zipFiles[initalFile]\n",
    "\n",
    "consumptionCols = ['TOTAL_EXPENDITURE',\n",
    "'MONTHLY_EXPENSE_ON_FOOD',\n",
    "'MONTHLY_EXPENSE_ON_INTOXICANTS',\n",
    "'MONTHLY_EXPENSE_ON_CLOTHING_AND_FOOTWEAR',\n",
    "'MONTHLY_EXPENSE_ON_COSMETIC_AND_TOILETRIES',\n",
    "'MONTHLY_EXPENSE_ON_APPLIANCES',\n",
    "'MONTHLY_EXPENSE_ON_RESTAURANTS',\n",
    "'MONTHLY_EXPENSE_ON_RECREATION',\n",
    "'MONTHLY_EXPENSE_ON_BILLS_AND_RENT',\n",
    "'MONTHLY_EXPENSE_ON_POWER_AND_FUEL',\n",
    "'MONTHLY_EXPENSE_ON_TRANSPORT',\n",
    "'MONTHLY_EXPENSE_ON_COMMUNICATION_AND_INFO',\n",
    "'MONTHLY_EXPENSE_ON_EDUCATION',\n",
    "'MONTHLY_EXPENSE_ON_HEALTH',\n",
    "'MONTHLY_EXPENSE_ON_ALL_EMIS',\n",
    "'MONTHLY_EXPENSE_ON_MISCELLANEOUS',\n",
    "'REASON_FOR_NON_RESPONSE',\n",
    "'FAMILY_SHIFTED',\n",
    "'MONTH_SLOT',\n",
    "'MONTH']\n",
    "\n",
    "finalCols = ['HH_ID'] + consumptionCols\n",
    "\n",
    "df = pd.read_csv(fileName, compression='zip')\n",
    "\n",
    "if 'FAMILY_SHIFTED' not in df.columns:\n",
    "        df['FAMILY_SHIFTED'] = 'N'\n",
    "\n",
    "df = df[finalCols]\n",
    "\n",
    "for f in notebook.tqdm(zipFiles[initalFile+1:71], desc='File', leave=True):\n",
    "    fileName = HH_Consumption_dir+ f\n",
    "    df_toMerge = pd.read_csv(fileName, compression='zip')\n",
    "    if 'FAMILY_SHIFTED' not in df_toMerge.columns:\n",
    "        df_toMerge['FAMILY_SHIFTED'] = 'N'\n",
    "\n",
    "    df_toMerge = df_toMerge[finalCols]\n",
    "    df = pd.concat((df,df_toMerge),axis=0)\n",
    "\n",
    "    "
   ]
  },
  {
   "cell_type": "markdown",
   "id": "5aedd7a9",
   "metadata": {},
   "source": [
    "# Finishing up!"
   ]
  },
  {
   "cell_type": "code",
   "execution_count": 15,
   "id": "65a1c98e",
   "metadata": {},
   "outputs": [],
   "source": [
    "df=  df.reset_index(drop=True)\n",
    "df.to_feather('proc_data\\HH_consumption_long.feather')\n"
   ]
  }
 ],
 "metadata": {
  "kernelspec": {
   "display_name": "info3",
   "language": "python",
   "name": "python3"
  },
  "language_info": {
   "codemirror_mode": {
    "name": "ipython",
    "version": 3
   },
   "file_extension": ".py",
   "mimetype": "text/x-python",
   "name": "python",
   "nbconvert_exporter": "python",
   "pygments_lexer": "ipython3",
   "version": "3.9.16"
  },
  "vscode": {
   "interpreter": {
    "hash": "d52fac8601fad4c6cb4c694a7b527a812d54270c643e8a24b7285c8effeea0ef"
   }
  }
 },
 "nbformat": 4,
 "nbformat_minor": 5
}
