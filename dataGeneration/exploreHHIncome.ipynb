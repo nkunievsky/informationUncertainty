{
 "cells": [
  {
   "cell_type": "code",
   "execution_count": 1,
   "id": "30108730",
   "metadata": {},
   "outputs": [],
   "source": [
    "import sys\n",
    "import os\n",
    "import math\n",
    "import random\n",
    "import array\n",
    "from datetime import datetime\n",
    "\n",
    "import numpy as np\n",
    "import pandas as pd \n",
    "\n",
    "from scipy.stats import lognorm\n",
    "from scipy.stats import beta\n",
    "from scipy.stats import binom\n",
    "from scipy.stats import norm\n",
    "from scipy.stats import multivariate_normal\n",
    "from scipy.stats import expon\n",
    "from scipy.stats import pareto\n",
    "import scipy.sparse as sp\n",
    "import scipy.linalg as la\n",
    "from scipy.stats import dirichlet\n",
    " \n",
    "\n",
    "import matplotlib.pyplot as plt \n",
    "from mpl_toolkits.mplot3d import Axes3D\n",
    "import seaborn as sns\n",
    "\n",
    "from itertools import combinations\n",
    "from itertools import combinations_with_replacement\n",
    "from itertools import permutations\n",
    "from itertools import product\n",
    "\n",
    "\n",
    "from tqdm import trange, notebook\n",
    "\n",
    "pd.set_option('display.max_columns', None)\n"
   ]
  },
  {
   "cell_type": "code",
   "execution_count": 2,
   "id": "984f4a97",
   "metadata": {},
   "outputs": [
    {
     "data": {
      "text/plain": [
       "'D:\\\\Dropbox\\\\Dropbox\\\\uchicago_fourth\\\\uncertaintyInequality'"
      ]
     },
     "execution_count": 2,
     "metadata": {},
     "output_type": "execute_result"
    }
   ],
   "source": [
    "current_directory = os.getcwd()\n",
    "parent_directory = os.path.dirname(current_directory)\n",
    "sys.path.append(parent_directory)\n",
    "from config import directory_path\n",
    "os.chdir(directory_path)\n",
    "os.getcwd()\n",
    "\n"
   ]
  },
  {
   "cell_type": "markdown",
   "id": "9a622a8c",
   "metadata": {},
   "source": [
    "## Creating a wide Panel data"
   ]
  },
  {
   "cell_type": "code",
   "execution_count": 24,
   "id": "f820232f",
   "metadata": {
    "scrolled": true
   },
   "outputs": [
    {
     "data": {
      "text/plain": [
       "['household_income_20140131_MS_rev_csv.zip',\n",
       " 'household_income_20140228_MS_rev_csv.zip',\n",
       " 'household_income_20140331_MS_rev_csv.zip',\n",
       " 'household_income_20140430_MS_rev_csv.zip',\n",
       " 'household_income_20140531_MS_rev_csv.zip',\n",
       " 'household_income_20140630_MS_rev_csv.zip',\n",
       " 'household_income_20140731_MS_rev_csv.zip',\n",
       " 'household_income_20140831_MS_rev_csv.zip',\n",
       " 'household_income_20140930_MS_rev_csv.zip',\n",
       " 'household_income_20141031_MS_rev_csv.zip',\n",
       " 'household_income_20141130_MS_rev_csv.zip',\n",
       " 'household_income_20141231_MS_rev_csv.zip',\n",
       " 'household_income_20150131_MS_rev_csv.zip',\n",
       " 'household_income_20150228_MS_rev_csv.zip',\n",
       " 'household_income_20150331_MS_rev_csv.zip',\n",
       " 'household_income_20150430_MS_rev_csv.zip',\n",
       " 'household_income_20150531_MS_rev_csv.zip',\n",
       " 'household_income_20150630_MS_rev_csv.zip',\n",
       " 'household_income_20150731_MS_rev_csv.zip',\n",
       " 'household_income_20150831_MS_rev_csv.zip',\n",
       " 'household_income_20150930_MS_rev_csv.zip',\n",
       " 'household_income_20151031_MS_rev_csv.zip',\n",
       " 'household_income_20151130_MS_rev_csv.zip',\n",
       " 'household_income_20151231_MS_rev_csv.zip',\n",
       " 'household_income_20160131_MS_rev_csv.zip',\n",
       " 'household_income_20160229_MS_rev_csv.zip',\n",
       " 'household_income_20160331_MS_rev_csv.zip',\n",
       " 'household_income_20160430_MS_rev_csv.zip',\n",
       " 'household_income_20160531_MS_rev_csv.zip',\n",
       " 'household_income_20160630_MS_rev_csv.zip',\n",
       " 'household_income_20160731_MS_rev_csv.zip',\n",
       " 'household_income_20160831_MS_rev_csv.zip',\n",
       " 'household_income_20160930_MS_rev_csv.zip',\n",
       " 'household_income_20161031_MS_rev_csv.zip',\n",
       " 'household_income_20161130_MS_rev_csv.zip',\n",
       " 'household_income_20161231_MS_rev_csv.zip',\n",
       " 'household_income_20170131_MS_rev_csv.zip',\n",
       " 'household_income_20170228_MS_rev_csv.zip',\n",
       " 'household_income_20170331_MS_rev_csv.zip',\n",
       " 'household_income_20170430_MS_rev_csv.zip',\n",
       " 'household_income_20170531_MS_rev_csv.zip',\n",
       " 'household_income_20170630_MS_rev_csv.zip',\n",
       " 'household_income_20170731_MS_rev_csv.zip',\n",
       " 'household_income_20170831_MS_rev_csv.zip',\n",
       " 'household_income_20170930_MS_rev_csv.zip',\n",
       " 'household_income_20171031_MS_rev_csv.zip',\n",
       " 'household_income_20171130_MS_rev_csv.zip',\n",
       " 'household_income_20171231_MS_rev_csv.zip',\n",
       " 'household_income_20180131_MS_rev_csv.zip',\n",
       " 'household_income_20180228_MS_rev_csv.zip',\n",
       " 'household_income_20180331_MS_rev_csv.zip',\n",
       " 'household_income_20180430_MS_rev_csv.zip',\n",
       " 'household_income_20180531_MS_rev_csv.zip',\n",
       " 'household_income_20180630_MS_rev_csv.zip',\n",
       " 'household_income_20180731_MS_rev_csv.zip',\n",
       " 'household_income_20180831_MS_rev_csv.zip',\n",
       " 'household_income_20180930_MS_rev_csv.zip',\n",
       " 'household_income_20181031_MS_rev_csv.zip',\n",
       " 'household_income_20181130_MS_rev_csv.zip',\n",
       " 'household_income_20181231_MS_rev_csv.zip',\n",
       " 'household_income_20190131_MS_rev_csv.zip',\n",
       " 'household_income_20190228_MS_rev_csv.zip',\n",
       " 'household_income_20190331_MS_rev_csv.zip',\n",
       " 'household_income_20190430_MS_rev_csv.zip',\n",
       " 'household_income_20190531_MS_rev_csv.zip',\n",
       " 'household_income_20190630_MS_rev_csv.zip',\n",
       " 'household_income_20190731_MS_rev_csv.zip',\n",
       " 'household_income_20190831_MS_rev_csv.zip',\n",
       " 'household_income_20190930_MS_rev_csv.zip',\n",
       " 'household_income_20191031_MS_rev_csv.zip',\n",
       " 'household_income_20191130_MS_rev_csv.zip',\n",
       " 'household_income_20191231_MS_rev_csv.zip',\n",
       " 'household_income_20200131_MS_rev_csv.zip',\n",
       " 'household_income_20200229_MS_rev_csv.zip',\n",
       " 'household_income_20200331_MS_rev_csv.zip',\n",
       " 'household_income_20200430_MS_rev_csv.zip',\n",
       " 'household_income_20200531_MS_rev_csv.zip',\n",
       " 'household_income_20200630_MS_rev_csv.zip',\n",
       " 'household_income_20200731_MS_rev_csv.zip',\n",
       " 'household_income_20200831_MS_rev_csv.zip',\n",
       " 'household_income_20200930_MS_rev_csv.zip',\n",
       " 'household_income_20201031_MS_rev_csv.zip',\n",
       " 'household_income_20201130_MS_rev_csv.zip',\n",
       " 'household_income_20201231_MS_rev_csv.zip',\n",
       " 'household_income_20210131_MS_rev_csv.zip',\n",
       " 'household_income_20210228_MS_rev_csv.zip',\n",
       " 'household_income_20210331_MS_rev_csv.zip',\n",
       " 'household_income_20210430_MS_rev_csv.zip',\n",
       " 'household_income_20210531_MS_rev_csv.zip',\n",
       " 'household_income_20210630_MS_rev_csv.zip',\n",
       " 'household_income_20210731_MS_rev_csv.zip',\n",
       " 'household_income_20210831_MS_rev_csv.zip',\n",
       " 'household_income_20210930_MS_rev_csv.zip',\n",
       " 'household_income_20210930_MS_rev_txt.zip',\n",
       " 'household_income_20211031_MS_rev_csv.zip',\n",
       " 'household_income_20211130_MS_rev_csv.zip',\n",
       " 'household_income_20211231_MS_rev_csv.zip',\n",
       " 'household_income_20220131_MS_csv.zip']"
      ]
     },
     "execution_count": 24,
     "metadata": {},
     "output_type": "execute_result"
    }
   ],
   "source": [
    "HH_Income_dir = 'pyramid/HHIncome/'\n",
    "zipFiles = os.listdir(HH_Income_dir)\n",
    "zipFiles"
   ]
  },
  {
   "cell_type": "code",
   "execution_count": 25,
   "id": "2726b1e3",
   "metadata": {},
   "outputs": [
    {
     "data": {
      "application/vnd.jupyter.widget-view+json": {
       "model_id": "f22da367efd4407c90e4a882bb625f7d",
       "version_major": 2,
       "version_minor": 0
      },
      "text/plain": [
       "File:   0%|          | 0/58 [00:00<?, ?it/s]"
      ]
     },
     "metadata": {},
     "output_type": "display_data"
    }
   ],
   "source": [
    "initalFile = 12\n",
    "fileName = HH_Income_dir+ zipFiles[initalFile]\n",
    "\n",
    "df = pd.read_csv(fileName, compression='zip')\n",
    "dropcols = ['STATE','HR', 'DISTRICT','REGION_TYPE','STRATUM','PSU_ID',\n",
    "            'MONTH_SLOT','MONTH','RESPONSE_STATUS','HH_NON_RESPONSE_MS',\n",
    "            'HH_NON_RESPONSE_FOR_COUNTRY_MS','HH_NON_RESPONSE_FOR_STATE_MS',\n",
    "            'AGE_GROUP','OCCUPATION_GROUP','EDUCATION_GROUP','GENDER_GROUP','SIZE_GROUP']\n",
    "dropCol = [c for c in df.columns if c.find('WEIGHT')>1] + dropcols\n",
    "df = df.drop(dropCol,axis=1)\n",
    "\n",
    "if 'FAMILY_SHIFTED' not in df.columns:\n",
    "    df['FAMILY_SHIFTED'] = 'N'\n",
    "\n",
    "keep_same = df.columns[0]\n",
    "suffix = \"_\"+fileName[fileName.find('_20')+1:fileName.find('_MS')]\n",
    "df.columns = ['{}{}'.format(c, '' if c in keep_same else suffix) for c in df.columns]\n",
    "\n",
    "for f in notebook.tqdm(zipFiles[initalFile+1:71], desc='File', leave=True):\n",
    "    fileName = HH_Income_dir+ f\n",
    "    df_toMerge = pd.read_csv(fileName, compression='zip')\n",
    "    df_toMerge = df_toMerge.drop(dropCol,axis=1)\n",
    "    if 'FAMILY_SHIFTED' not in df.columns:\n",
    "        df_toMerge['FAMILY_SHIFTED'] = 'N'\n",
    "\n",
    "    keep_same = df_toMerge.columns[0]\n",
    "    suffix = \"_\"+ f[f.find('_20')+1:f.find('_MS')]\n",
    "    df_toMerge.columns = ['{}{}'.format(c, '' if c in keep_same else suffix) for c in df_toMerge.columns]\n",
    "\n",
    "    df = df.merge(df_toMerge,on=['HH_ID'],how='outer',validate=\"1:1\")\n",
    "\n",
    "    "
   ]
  },
  {
   "cell_type": "markdown",
   "id": "036bf5a6",
   "metadata": {},
   "source": [
    "### Finishing up! and savign the HH panel"
   ]
  },
  {
   "cell_type": "code",
   "execution_count": 27,
   "id": "faa6ff66",
   "metadata": {},
   "outputs": [],
   "source": [
    "df.to_feather('proc_data\\HH_Income_Panel.feather')\n"
   ]
  },
  {
   "cell_type": "markdown",
   "id": "cc6072c9",
   "metadata": {},
   "source": [
    "# Creating a long panel data"
   ]
  },
  {
   "cell_type": "code",
   "execution_count": 4,
   "id": "18ca72ae",
   "metadata": {},
   "outputs": [
    {
     "data": {
      "text/plain": [
       "['household_income_20140131_MS_rev_csv.zip',\n",
       " 'household_income_20140228_MS_rev_csv.zip',\n",
       " 'household_income_20140331_MS_rev_csv.zip',\n",
       " 'household_income_20140430_MS_rev_csv.zip',\n",
       " 'household_income_20140531_MS_rev_csv.zip',\n",
       " 'household_income_20140630_MS_rev_csv.zip',\n",
       " 'household_income_20140731_MS_rev_csv.zip',\n",
       " 'household_income_20140831_MS_rev_csv.zip',\n",
       " 'household_income_20140930_MS_rev_csv.zip',\n",
       " 'household_income_20141031_MS_rev_csv.zip',\n",
       " 'household_income_20141130_MS_rev_csv.zip',\n",
       " 'household_income_20141231_MS_rev_csv.zip',\n",
       " 'household_income_20150131_MS_rev_csv.zip',\n",
       " 'household_income_20150228_MS_rev_csv.zip',\n",
       " 'household_income_20150331_MS_rev_csv.zip',\n",
       " 'household_income_20150430_MS_rev_csv.zip',\n",
       " 'household_income_20150531_MS_rev_csv.zip',\n",
       " 'household_income_20150630_MS_rev_csv.zip',\n",
       " 'household_income_20150731_MS_rev_csv.zip',\n",
       " 'household_income_20150831_MS_rev_csv.zip',\n",
       " 'household_income_20150930_MS_rev_csv.zip',\n",
       " 'household_income_20151031_MS_rev_csv.zip',\n",
       " 'household_income_20151130_MS_rev_csv.zip',\n",
       " 'household_income_20151231_MS_rev_csv.zip',\n",
       " 'household_income_20160131_MS_rev_csv.zip',\n",
       " 'household_income_20160229_MS_rev_csv.zip',\n",
       " 'household_income_20160331_MS_rev_csv.zip',\n",
       " 'household_income_20160430_MS_rev_csv.zip',\n",
       " 'household_income_20160531_MS_rev_csv.zip',\n",
       " 'household_income_20160630_MS_rev_csv.zip',\n",
       " 'household_income_20160731_MS_rev_csv.zip',\n",
       " 'household_income_20160831_MS_rev_csv.zip',\n",
       " 'household_income_20160930_MS_rev_csv.zip',\n",
       " 'household_income_20161031_MS_rev_csv.zip',\n",
       " 'household_income_20161130_MS_rev_csv.zip',\n",
       " 'household_income_20161231_MS_rev_csv.zip',\n",
       " 'household_income_20170131_MS_rev_csv.zip',\n",
       " 'household_income_20170228_MS_rev_csv.zip',\n",
       " 'household_income_20170331_MS_rev_csv.zip',\n",
       " 'household_income_20170430_MS_rev_csv.zip',\n",
       " 'household_income_20170531_MS_rev_csv.zip',\n",
       " 'household_income_20170630_MS_rev_csv.zip',\n",
       " 'household_income_20170731_MS_rev_csv.zip',\n",
       " 'household_income_20170831_MS_rev_csv.zip',\n",
       " 'household_income_20170930_MS_rev_csv.zip',\n",
       " 'household_income_20171031_MS_rev_csv.zip',\n",
       " 'household_income_20171130_MS_rev_csv.zip',\n",
       " 'household_income_20171231_MS_rev_csv.zip',\n",
       " 'household_income_20180131_MS_rev_csv.zip',\n",
       " 'household_income_20180228_MS_rev_csv.zip',\n",
       " 'household_income_20180331_MS_rev_csv.zip',\n",
       " 'household_income_20180430_MS_rev_csv.zip',\n",
       " 'household_income_20180531_MS_rev_csv.zip',\n",
       " 'household_income_20180630_MS_rev_csv.zip',\n",
       " 'household_income_20180731_MS_rev_csv.zip',\n",
       " 'household_income_20180831_MS_rev_csv.zip',\n",
       " 'household_income_20180930_MS_rev_csv.zip',\n",
       " 'household_income_20181031_MS_rev_csv.zip',\n",
       " 'household_income_20181130_MS_rev_csv.zip',\n",
       " 'household_income_20181231_MS_rev_csv.zip',\n",
       " 'household_income_20190131_MS_rev_csv.zip',\n",
       " 'household_income_20190228_MS_rev_csv.zip',\n",
       " 'household_income_20190331_MS_rev_csv.zip',\n",
       " 'household_income_20190430_MS_rev_csv.zip',\n",
       " 'household_income_20190531_MS_rev_csv.zip',\n",
       " 'household_income_20190630_MS_rev_csv.zip',\n",
       " 'household_income_20190731_MS_rev_csv.zip',\n",
       " 'household_income_20190831_MS_rev_csv.zip',\n",
       " 'household_income_20190930_MS_rev_csv.zip',\n",
       " 'household_income_20191031_MS_rev_csv.zip',\n",
       " 'household_income_20191130_MS_rev_csv.zip',\n",
       " 'household_income_20191231_MS_rev_csv.zip',\n",
       " 'household_income_20200131_MS_rev_csv.zip',\n",
       " 'household_income_20200229_MS_rev_csv.zip',\n",
       " 'household_income_20200331_MS_rev_csv.zip',\n",
       " 'household_income_20200430_MS_rev_csv.zip',\n",
       " 'household_income_20200531_MS_rev_csv.zip',\n",
       " 'household_income_20200630_MS_rev_csv.zip',\n",
       " 'household_income_20200731_MS_rev_csv.zip',\n",
       " 'household_income_20200831_MS_rev_csv.zip',\n",
       " 'household_income_20200930_MS_rev_csv.zip',\n",
       " 'household_income_20201031_MS_rev_csv.zip',\n",
       " 'household_income_20201130_MS_rev_csv.zip',\n",
       " 'household_income_20201231_MS_rev_csv.zip',\n",
       " 'household_income_20210131_MS_rev_csv.zip',\n",
       " 'household_income_20210228_MS_rev_csv.zip',\n",
       " 'household_income_20210331_MS_rev_csv.zip',\n",
       " 'household_income_20210430_MS_rev_csv.zip',\n",
       " 'household_income_20210531_MS_rev_csv.zip',\n",
       " 'household_income_20210630_MS_rev_csv.zip',\n",
       " 'household_income_20210731_MS_rev_csv.zip',\n",
       " 'household_income_20210831_MS_rev_csv.zip',\n",
       " 'household_income_20210930_MS_rev_csv.zip',\n",
       " 'household_income_20210930_MS_rev_txt.zip',\n",
       " 'household_income_20211031_MS_rev_csv.zip',\n",
       " 'household_income_20211130_MS_rev_csv.zip',\n",
       " 'household_income_20211231_MS_rev_csv.zip',\n",
       " 'household_income_20220131_MS_csv.zip']"
      ]
     },
     "execution_count": 4,
     "metadata": {},
     "output_type": "execute_result"
    }
   ],
   "source": [
    "HH_Income_dir = 'pyramid/HHIncome/'\n",
    "zipFiles = os.listdir(HH_Income_dir)\n",
    "zipFiles"
   ]
  },
  {
   "cell_type": "code",
   "execution_count": 5,
   "id": "d895b49a",
   "metadata": {},
   "outputs": [
    {
     "data": {
      "application/vnd.jupyter.widget-view+json": {
       "model_id": "35029a1a2ceb482780e1b1b663d46766",
       "version_major": 2,
       "version_minor": 0
      },
      "text/plain": [
       "File:   0%|          | 0/58 [00:00<?, ?it/s]"
      ]
     },
     "metadata": {},
     "output_type": "display_data"
    }
   ],
   "source": [
    "initalFile = 12\n",
    "fileName = HH_Income_dir+ zipFiles[initalFile]\n",
    "df = pd.read_csv(fileName, compression='zip')\n",
    "if 'FAMILY_SHIFTED' not in df.columns:\n",
    "    df['FAMILY_SHIFTED'] = 'N'\n",
    "\n",
    "for f in notebook.tqdm(zipFiles[initalFile+1:72], desc='File', leave=True):\n",
    "    fileName = HH_Income_dir+ f\n",
    "    df_toMerge = pd.read_csv(fileName, compression='zip')\n",
    "    if 'FAMILY_SHIFTED' not in df.columns:\n",
    "        df_toMerge['FAMILY_SHIFTED'] = 'N'\n",
    "\n",
    "    df = pd.concat((df,df_toMerge),axis=0)\n",
    "\n"
   ]
  },
  {
   "cell_type": "markdown",
   "id": "5d8e9f60",
   "metadata": {},
   "source": [
    "### Finishing up!"
   ]
  },
  {
   "cell_type": "code",
   "execution_count": 45,
   "id": "f23ab899",
   "metadata": {},
   "outputs": [],
   "source": [
    "df = df.reset_index(drop=True)\n",
    "df.to_feather('proc_data\\HH_Income_Panel_long.feather')\n"
   ]
  }
 ],
 "metadata": {
  "kernelspec": {
   "display_name": "info3",
   "language": "python",
   "name": "python3"
  },
  "language_info": {
   "codemirror_mode": {
    "name": "ipython",
    "version": 3
   },
   "file_extension": ".py",
   "mimetype": "text/x-python",
   "name": "python",
   "nbconvert_exporter": "python",
   "pygments_lexer": "ipython3",
   "version": "3.10.6 | packaged by conda-forge | (main, Aug 22 2022, 20:29:51) [MSC v.1929 64 bit (AMD64)]"
  },
  "vscode": {
   "interpreter": {
    "hash": "d52fac8601fad4c6cb4c694a7b527a812d54270c643e8a24b7285c8effeea0ef"
   }
  }
 },
 "nbformat": 4,
 "nbformat_minor": 5
}
